{
  "cells": [
    {
      "cell_type": "markdown",
      "source": [
        "\n",
        "Submitted by:\n",
        "*   Sharath Kumar K R\n",
        "*   Roshan R B\n",
        "\n",
        "Reference: https://medium.com/@vedantjumle/class-conditioned-diffusion-models-using-keras-and-tensorflow-9997fa6d958c\n",
        "\n"
      ],
      "metadata": {
        "id": "yL6ef1UX6Y9s"
      },
      "id": "yL6ef1UX6Y9s"
    },
    {
      "cell_type": "code",
      "source": [
        "!pip install tensorflow_addons\n",
        "!pip install einops"
      ],
      "metadata": {
        "colab": {
          "base_uri": "https://localhost:8080/"
        },
        "id": "T4SPUo3eBhAC",
        "outputId": "f9dab267-5e37-4367-d711-bf4e32396040"
      },
      "id": "T4SPUo3eBhAC",
      "execution_count": 1,
      "outputs": [
        {
          "output_type": "stream",
          "name": "stdout",
          "text": [
            "Collecting tensorflow_addons\n",
            "  Downloading tensorflow_addons-0.23.0-cp310-cp310-manylinux_2_17_x86_64.manylinux2014_x86_64.whl (611 kB)\n",
            "\u001b[2K     \u001b[90m━━━━━━━━━━━━━━━━━━━━━━━━━━━━━━━━━━━━━━━━\u001b[0m \u001b[32m611.8/611.8 kB\u001b[0m \u001b[31m4.8 MB/s\u001b[0m eta \u001b[36m0:00:00\u001b[0m\n",
            "\u001b[?25hRequirement already satisfied: packaging in /usr/local/lib/python3.10/dist-packages (from tensorflow_addons) (24.1)\n",
            "Collecting typeguard<3.0.0,>=2.7 (from tensorflow_addons)\n",
            "  Downloading typeguard-2.13.3-py3-none-any.whl (17 kB)\n",
            "Installing collected packages: typeguard, tensorflow_addons\n",
            "Successfully installed tensorflow_addons-0.23.0 typeguard-2.13.3\n",
            "Collecting einops\n",
            "  Downloading einops-0.8.0-py3-none-any.whl (43 kB)\n",
            "\u001b[2K     \u001b[90m━━━━━━━━━━━━━━━━━━━━━━━━━━━━━━━━━━━━━━━━\u001b[0m \u001b[32m43.2/43.2 kB\u001b[0m \u001b[31m2.0 MB/s\u001b[0m eta \u001b[36m0:00:00\u001b[0m\n",
            "\u001b[?25hInstalling collected packages: einops\n",
            "Successfully installed einops-0.8.0\n"
          ]
        }
      ]
    },
    {
      "cell_type": "code",
      "source": [
        "import os\n",
        "import numpy as np\n",
        "import matplotlib.pyplot as plt\n",
        "from tqdm import tqdm\n",
        "import math\n",
        "from PIL import Image\n",
        "\n",
        "import tensorflow as tf\n",
        "from tensorflow import keras, einsum\n",
        "from tensorflow.keras import Model, Sequential\n",
        "from tensorflow.keras.layers import Layer\n",
        "import tensorflow.keras.layers as nn\n",
        "import tensorflow_addons as tfa\n",
        "import tensorflow_datasets as tfds\n",
        "\n",
        "from einops import rearrange\n",
        "from einops.layers.tensorflow import Rearrange\n",
        "from functools import partial\n",
        "from inspect import isfunction"
      ],
      "metadata": {
        "colab": {
          "base_uri": "https://localhost:8080/"
        },
        "id": "53VUX2emBTT1",
        "outputId": "195ef230-c92e-4138-e064-c1f6741487f2"
      },
      "id": "53VUX2emBTT1",
      "execution_count": 2,
      "outputs": [
        {
          "output_type": "stream",
          "name": "stderr",
          "text": [
            "/usr/local/lib/python3.10/dist-packages/tensorflow_addons/utils/tfa_eol_msg.py:23: UserWarning: \n",
            "\n",
            "TensorFlow Addons (TFA) has ended development and introduction of new features.\n",
            "TFA has entered a minimal maintenance and release mode until a planned end of life in May 2024.\n",
            "Please modify downstream libraries to take dependencies from other repositories in our TensorFlow community (e.g. Keras, Keras-CV, and Keras-NLP). \n",
            "\n",
            "For more information see: https://github.com/tensorflow/addons/issues/2807 \n",
            "\n",
            "  warnings.warn(\n"
          ]
        }
      ]
    },
    {
      "cell_type": "code",
      "source": [
        "def preprocess(x, y):\n",
        "    return tf.image.resize(tf.cast(x, tf.float32) / 127.5 - 1, (32, 32)), tf.cast(y, tf.int32)\n",
        "\n",
        "BATCH_SIZE = 64\n",
        "dataset = tfds.load('mnist', as_supervised=True, split=\"train\")\n",
        "dataset = dataset.map(preprocess, tf.data.AUTOTUNE)\n",
        "dataset = dataset.shuffle(5000).batch(BATCH_SIZE).prefetch(tf.data.AUTOTUNE)"
      ],
      "metadata": {
        "colab": {
          "base_uri": "https://localhost:8080/",
          "height": 84,
          "referenced_widgets": [
            "324ac4cbbcdf473e992e2a9e81dba047",
            "d60ce3e671024918a78d563b330b6e57",
            "bd6ed66982cc43c1b3e7771aedea8048",
            "64f072cb9fbf4c5193576d6d499ad332",
            "338e3b07559b435b94ac3ef329e419de",
            "ef2e7182b8224ba49c02112f709798c4",
            "e45b388783454effb649c1611e533493",
            "33c3966d19fb4d7eaf919e28861ded03",
            "f83021e1570742439844be1a8eb5f219",
            "a60dc7ad7efa49e9a2553568347a4f06",
            "51ffbc9c1f0342aaafb80193096bf997"
          ]
        },
        "id": "nNxB2odmBjWn",
        "outputId": "f897fa6f-8311-4536-bd4c-c7a922bf4673"
      },
      "id": "nNxB2odmBjWn",
      "execution_count": 3,
      "outputs": [
        {
          "output_type": "stream",
          "name": "stdout",
          "text": [
            "Downloading and preparing dataset 11.06 MiB (download: 11.06 MiB, generated: 21.00 MiB, total: 32.06 MiB) to /root/tensorflow_datasets/mnist/3.0.1...\n"
          ]
        },
        {
          "output_type": "display_data",
          "data": {
            "text/plain": [
              "Dl Completed...:   0%|          | 0/5 [00:00<?, ? file/s]"
            ],
            "application/vnd.jupyter.widget-view+json": {
              "version_major": 2,
              "version_minor": 0,
              "model_id": "324ac4cbbcdf473e992e2a9e81dba047"
            }
          },
          "metadata": {}
        },
        {
          "output_type": "stream",
          "name": "stdout",
          "text": [
            "Dataset mnist downloaded and prepared to /root/tensorflow_datasets/mnist/3.0.1. Subsequent calls will reuse this data.\n"
          ]
        }
      ]
    },
    {
      "cell_type": "code",
      "source": [
        "timesteps = 100\n",
        "\n",
        "# create a fixed beta schedule\n",
        "beta = np.linspace(0.0001, 0.02, timesteps)\n",
        "\n",
        "# this will be used as discussed in the reparameterization trick\n",
        "alpha = 1 - beta\n",
        "alpha_bar = np.cumprod(alpha, 0)\n",
        "alpha_bar = np.concatenate((np.array([1.]), alpha_bar[:-1]), axis=0)\n",
        "sqrt_alpha_bar = np.sqrt(alpha_bar)\n",
        "one_minus_sqrt_alpha_bar = np.sqrt(1-alpha_bar)\n",
        "\n",
        "# this function will help us set the RNG key for Numpy\n",
        "def set_key(key):\n",
        "    np.random.seed(key)\n",
        "\n",
        "# this function will add noise to the input as per the given timestamp\n",
        "def forward_noise(key, x_0, t):\n",
        "    set_key(key)\n",
        "    noise = np.random.normal(size=x_0.shape)\n",
        "    reshaped_sqrt_alpha_bar_t = np.reshape(np.take(sqrt_alpha_bar, t), (-1, 1, 1, 1))\n",
        "    reshaped_one_minus_sqrt_alpha_bar_t = np.reshape(np.take(one_minus_sqrt_alpha_bar, t), (-1, 1, 1, 1))\n",
        "    noisy_image = reshaped_sqrt_alpha_bar_t  * x_0 + reshaped_one_minus_sqrt_alpha_bar_t  * noise\n",
        "    return noisy_image, noise\n",
        "\n",
        "# this function will be used to create sample timestamps between 0 & T\n",
        "def generate_timestamp(key, num):\n",
        "    set_key(key)\n",
        "    return tf.random.uniform(shape=[num], minval=0, maxval=timesteps, dtype=tf.int32)"
      ],
      "metadata": {
        "id": "QOLSA0NIBjZb"
      },
      "id": "QOLSA0NIBjZb",
      "execution_count": 4,
      "outputs": []
    },
    {
      "cell_type": "code",
      "source": [
        "# Let us visualize the output image at a few timestamps\n",
        "sample_mnist = dataset.as_numpy_iterator().next()[0][0]\n",
        "\n",
        "fig = plt.figure(figsize=(15, 30))\n",
        "\n",
        "for index, i in enumerate([10, 25, 50, 90]):\n",
        "    noisy_im, noise = forward_noise(0, np.expand_dims(sample_mnist, 0), np.array([i,]))\n",
        "    plt.subplot(1, 4, index+1)\n",
        "    plt.imshow(np.squeeze(np.squeeze(noisy_im, -1),0), cmap='gray')\n",
        "\n",
        "plt.show()"
      ],
      "metadata": {
        "colab": {
          "base_uri": "https://localhost:8080/",
          "height": 314
        },
        "id": "LyaYA2G4Bjb_",
        "outputId": "71e95dba-8a63-4095-ec80-386ccbce537a"
      },
      "id": "LyaYA2G4Bjb_",
      "execution_count": 7,
      "outputs": [
        {
          "output_type": "display_data",
          "data": {
            "text/plain": [
              "<Figure size 1500x3000 with 4 Axes>"
            ],
            "image/png": "[encoded data removed]"
          },
          "metadata": {}
        }
      ]
    },
    {
      "cell_type": "code",
      "source": [
        "# helpers functions\n",
        "def exists(x):\n",
        "    return x is not None\n",
        "\n",
        "def default(val, d):\n",
        "    if exists(val):\n",
        "        return val\n",
        "    return d() if isfunction(d) else d\n",
        "\n",
        "# We will use this to convert timestamps to time encodings\n",
        "class SinusoidalPosEmb(Layer):\n",
        "    def __init__(self, dim, max_positions=10000):\n",
        "        super(SinusoidalPosEmb, self).__init__()\n",
        "        self.dim = dim\n",
        "        self.max_positions = max_positions\n",
        "\n",
        "    def call(self, x, training=True):\n",
        "        x = tf.cast(x, tf.float32)\n",
        "        half_dim = self.dim // 2\n",
        "        emb = math.log(self.max_positions) / (half_dim - 1)\n",
        "        emb = tf.exp(tf.range(half_dim, dtype=tf.float32) * -emb)\n",
        "        emb = x[:, None] * emb[None, :]\n",
        "\n",
        "        emb = tf.concat([tf.sin(emb), tf.cos(emb)], axis=-1)\n",
        "\n",
        "        return emb\n",
        "\n",
        "# small helper modules\n",
        "class Identity(Layer):\n",
        "    def __init__(self):\n",
        "        super(Identity, self).__init__()\n",
        "\n",
        "    def call(self, x, training=True):\n",
        "        return tf.identity(x)\n",
        "\n",
        "\n",
        "class Residual(Layer):\n",
        "    def __init__(self, fn):\n",
        "        super(Residual, self).__init__()\n",
        "        self.fn = fn\n",
        "\n",
        "    def call(self, x, training=True):\n",
        "        return self.fn(x, training=training) + x\n",
        "\n",
        "def Upsample(dim):\n",
        "    return nn.Conv2DTranspose(filters=dim, kernel_size=4, strides=2, padding='SAME')\n",
        "\n",
        "def Downsample(dim):\n",
        "    return nn.Conv2D(filters=dim, kernel_size=4, strides=2, padding='SAME')\n",
        "\n",
        "class LayerNorm(Layer):\n",
        "    def __init__(self, dim, eps=1e-5, **kwargs):\n",
        "        super(LayerNorm, self).__init__(**kwargs)\n",
        "        self.eps = eps\n",
        "\n",
        "        self.g = tf.Variable(tf.ones([1, 1, 1, dim]))\n",
        "        self.b = tf.Variable(tf.zeros([1, 1, 1, dim]))\n",
        "\n",
        "    def call(self, x, training=True):\n",
        "        var = tf.math.reduce_variance(x, axis=-1, keepdims=True)\n",
        "        mean = tf.reduce_mean(x, axis=-1, keepdims=True)\n",
        "\n",
        "        x = (x - mean) / tf.sqrt((var + self.eps)) * self.g + self.b\n",
        "        return x\n",
        "\n",
        "class PreNorm(Layer):\n",
        "    def __init__(self, dim, fn):\n",
        "        super(PreNorm, self).__init__()\n",
        "        self.fn = fn\n",
        "        self.norm = LayerNorm(dim)\n",
        "\n",
        "    def call(self, x, training=True):\n",
        "        x = self.norm(x)\n",
        "        return self.fn(x)\n",
        "\n",
        "class SiLU(Layer):\n",
        "    def __init__(self):\n",
        "        super(SiLU, self).__init__()\n",
        "\n",
        "    def call(self, x, training=True):\n",
        "        return x * tf.nn.sigmoid(x)\n",
        "\n",
        "def gelu(x, approximate=False):\n",
        "    if approximate:\n",
        "        coeff = tf.cast(0.044715, x.dtype)\n",
        "        return 0.5 * x * (1.0 + tf.tanh(0.7978845608028654 * (x + coeff * tf.pow(x, 3))))\n",
        "    else:\n",
        "        return 0.5 * x * (1.0 + tf.math.erf(x / tf.cast(1.4142135623730951, x.dtype)))\n",
        "\n",
        "class GELU(Layer):\n",
        "    def __init__(self, approximate=False):\n",
        "        super(GELU, self).__init__()\n",
        "        self.approximate = approximate\n",
        "\n",
        "    def call(self, x, training=True):\n",
        "        return gelu(x, self.approximate)"
      ],
      "metadata": {
        "id": "CYxFWZ-_Bjel"
      },
      "id": "CYxFWZ-_Bjel",
      "execution_count": 8,
      "outputs": []
    },
    {
      "cell_type": "code",
      "source": [
        "# building block modules\n",
        "class Block(Layer):\n",
        "    def __init__(self, dim, groups=8):\n",
        "        super(Block, self).__init__()\n",
        "        self.proj = nn.Conv2D(dim, kernel_size=3, strides=1, padding='SAME')\n",
        "        self.norm = tfa.layers.GroupNormalization(groups, epsilon=1e-05)\n",
        "        self.act = SiLU()\n",
        "\n",
        "\n",
        "    def call(self, x, gamma_beta=None, training=True):\n",
        "        x = self.proj(x)\n",
        "        x = self.norm(x, training=training)\n",
        "\n",
        "        if exists(gamma_beta):\n",
        "            gamma, beta = gamma_beta\n",
        "            x = x * (gamma + 1) + beta\n",
        "\n",
        "        x = self.act(x)\n",
        "        return x\n",
        "\n",
        "class ResnetBlock(Layer):\n",
        "    def __init__(self, dim, dim_out, time_emb_dim=None, groups=8):\n",
        "        super(ResnetBlock, self).__init__()\n",
        "\n",
        "        self.mlp = Sequential([\n",
        "            SiLU(),\n",
        "            nn.Dense(units=dim_out * 2)\n",
        "        ]) if exists(time_emb_dim) else None\n",
        "\n",
        "        self.block1 = Block(dim_out, groups=groups)\n",
        "        self.block2 = Block(dim_out, groups=groups)\n",
        "        self.res_conv = nn.Conv2D(filters=dim_out, kernel_size=1, strides=1) if dim != dim_out else Identity()\n",
        "\n",
        "    def call(self, x, time_emb=None, training=True):\n",
        "        gamma_beta = None\n",
        "        if exists(self.mlp) and exists(time_emb):\n",
        "            time_emb = self.mlp(time_emb)\n",
        "            time_emb = rearrange(time_emb, 'b c -> b 1 1 c')\n",
        "            gamma_beta = tf.split(time_emb, num_or_size_splits=2, axis=-1)\n",
        "\n",
        "        h = self.block1(x, gamma_beta=gamma_beta, training=training)\n",
        "        h = self.block2(h, training=training)\n",
        "\n",
        "        return h + self.res_conv(x)\n",
        "\n",
        "class LinearAttention(Layer):\n",
        "    def __init__(self, dim, heads=4, dim_head=32):\n",
        "        super(LinearAttention, self).__init__()\n",
        "        self.scale = dim_head ** -0.5\n",
        "        self.heads = heads\n",
        "        self.hidden_dim = dim_head * heads\n",
        "\n",
        "        self.attend = nn.Softmax()\n",
        "        self.to_qkv = nn.Conv2D(filters=self.hidden_dim * 3, kernel_size=1, strides=1, use_bias=False)\n",
        "\n",
        "        self.to_out = Sequential([\n",
        "            nn.Conv2D(filters=dim, kernel_size=1, strides=1),\n",
        "            LayerNorm(dim)\n",
        "        ])\n",
        "\n",
        "    def call(self, x, training=True):\n",
        "        b, h, w, c = x.shape\n",
        "        qkv = self.to_qkv(x)\n",
        "        qkv = tf.split(qkv, num_or_size_splits=3, axis=-1)\n",
        "        q, k, v = map(lambda t: rearrange(t, 'b x y (h c) -> b h c (x y)', h=self.heads), qkv)\n",
        "\n",
        "        q = tf.nn.softmax(q, axis=-2)\n",
        "        k = tf.nn.softmax(k, axis=-1)\n",
        "\n",
        "        q = q * self.scale\n",
        "        context = einsum('b h d n, b h e n -> b h d e', k, v)\n",
        "\n",
        "        out = einsum('b h d e, b h d n -> b h e n', context, q)\n",
        "        out = rearrange(out, 'b h c (x y) -> b x y (h c)', h=self.heads, x=h, y=w)\n",
        "        out = self.to_out(out, training=training)\n",
        "\n",
        "        return out\n",
        "\n",
        "class Attention(Layer):\n",
        "    def __init__(self, dim, heads=4, dim_head=32):\n",
        "        super(Attention, self).__init__()\n",
        "        self.scale = dim_head ** -0.5\n",
        "        self.heads = heads\n",
        "        self.hidden_dim = dim_head * heads\n",
        "\n",
        "        self.to_qkv = nn.Conv2D(filters=self.hidden_dim * 3, kernel_size=1, strides=1, use_bias=False)\n",
        "        self.to_out = nn.Conv2D(filters=dim, kernel_size=1, strides=1)\n",
        "\n",
        "    def call(self, x, training=True):\n",
        "        b, h, w, c = x.shape\n",
        "        qkv = self.to_qkv(x)\n",
        "        qkv = tf.split(qkv, num_or_size_splits=3, axis=-1)\n",
        "        q, k, v = map(lambda t: rearrange(t, 'b x y (h c) -> b h c (x y)', h=self.heads), qkv)\n",
        "        q = q * self.scale\n",
        "\n",
        "        sim = einsum('b h d i, b h d j -> b h i j', q, k)\n",
        "        sim_max = tf.stop_gradient(tf.expand_dims(tf.argmax(sim, axis=-1), axis=-1))\n",
        "        sim_max = tf.cast(sim_max, tf.float32)\n",
        "        sim = sim - sim_max\n",
        "        attn = tf.nn.softmax(sim, axis=-1)\n",
        "\n",
        "        out = einsum('b h i j, b h d j -> b h i d', attn, v)\n",
        "        out = rearrange(out, 'b h (x y) d -> b x y (h d)', x = h, y = w)\n",
        "        out = self.to_out(out, training=training)\n",
        "\n",
        "        return out\n",
        "\n",
        "class MLP(Layer):\n",
        "    def __init__(self, hidden_dim, **kwargs):\n",
        "        super(MLP, self).__init__(**kwargs)\n",
        "        self.net = Sequential([\n",
        "            Rearrange('... -> ... 1'), # expand_dims(axis=-1)\n",
        "            nn.Dense(units=hidden_dim),\n",
        "            GELU(),\n",
        "            LayerNorm(hidden_dim),\n",
        "            nn.Dense(units=hidden_dim),\n",
        "            GELU(),\n",
        "            LayerNorm(hidden_dim),\n",
        "            nn.Dense(units=hidden_dim),\n",
        "        ])\n",
        "\n",
        "    def call(self, x, training=True):\n",
        "        return self.net(x, training=training)\n",
        "\n",
        "class ClassConditioning(Layer):\n",
        "    def __init__(self, res, num_channels=1):\n",
        "        super().__init__()\n",
        "        self.block = Sequential([\n",
        "            nn.Dense(res * res * num_channels),\n",
        "            SiLU(),\n",
        "            nn.Reshape((res, res, num_channels))\n",
        "        ])\n",
        "\n",
        "        self.block.compile()\n",
        "\n",
        "    def call(self, x):\n",
        "        return self.block(x)"
      ],
      "metadata": {
        "id": "vJoYNGbkBTao"
      },
      "id": "vJoYNGbkBTao",
      "execution_count": 9,
      "outputs": []
    },
    {
      "cell_type": "code",
      "source": [
        "class Unet_conditional(Model):\n",
        "    def __init__(self,\n",
        "                 dim=64,\n",
        "                 init_dim=None,\n",
        "                 out_dim=None,\n",
        "                 dim_mults=(1, 2, 4, 8),\n",
        "                 channels=3,\n",
        "                 resnet_block_groups=8,\n",
        "                 learned_variance=False,\n",
        "                 sinusoidal_cond_mlp=True,\n",
        "                 num_classes=None,\n",
        "                 class_embedder=None,\n",
        "                 class_emb_dim=64,\n",
        "                 in_res=64\n",
        "                 ):\n",
        "        super(Unet_conditional, self).__init__()\n",
        "\n",
        "        # determine dimensions\n",
        "        self.channels = channels\n",
        "        self.in_res = in_res\n",
        "\n",
        "        self.class_embeddings = nn.Embedding(num_classes, class_emb_dim) if class_embedder is None else class_embedder\n",
        "\n",
        "        init_dim = default(init_dim, dim // 3 * 2)\n",
        "        self.init_conv = nn.Conv2D(filters=init_dim, kernel_size=7, strides=1, padding='SAME')\n",
        "\n",
        "        dims = [init_dim, *map(lambda m: dim * m, dim_mults)]\n",
        "        in_out = list(zip(dims[:-1], dims[1:]))\n",
        "\n",
        "        block_klass = partial(ResnetBlock, groups = resnet_block_groups)\n",
        "\n",
        "        # time embeddings\n",
        "        time_dim = dim * 4\n",
        "        self.sinusoidal_cond_mlp = sinusoidal_cond_mlp\n",
        "\n",
        "        if sinusoidal_cond_mlp:\n",
        "            self.time_mlp = Sequential([\n",
        "                SinusoidalPosEmb(dim),\n",
        "                nn.Dense(units=time_dim),\n",
        "                GELU(),\n",
        "                nn.Dense(units=time_dim)\n",
        "            ], name=\"time embeddings\")\n",
        "        else:\n",
        "            self.time_mlp = MLP(time_dim)\n",
        "\n",
        "        # layers\n",
        "        self.downs = []\n",
        "        self.ups = []\n",
        "        num_resolutions = len(in_out)\n",
        "\n",
        "        now_res = in_res\n",
        "\n",
        "        for ind, (dim_in, dim_out) in enumerate(in_out):\n",
        "            is_last = ind >= (num_resolutions - 1)\n",
        "\n",
        "            self.downs.append([\n",
        "                ClassConditioning(now_res),\n",
        "                block_klass(dim_in+1, dim_out, time_emb_dim=time_dim),\n",
        "                block_klass(dim_out, dim_out, time_emb_dim=time_dim),\n",
        "                Residual(PreNorm(dim_out, LinearAttention(dim_out))),\n",
        "                Downsample(dim_out) if not is_last else Identity()\n",
        "            ])\n",
        "\n",
        "            now_res //= 2 if not is_last else 1\n",
        "\n",
        "        mid_dim = dims[-1]\n",
        "        self.mid_class_conditioning = ClassConditioning(now_res)\n",
        "        self.mid_block1 = block_klass(mid_dim+1, mid_dim, time_emb_dim=time_dim)\n",
        "        self.mid_attn = Residual(PreNorm(mid_dim, Attention(mid_dim)))\n",
        "        self.mid_block2 = block_klass(mid_dim, mid_dim, time_emb_dim=time_dim)\n",
        "\n",
        "        for ind, (dim_in, dim_out) in enumerate(reversed(in_out[1:])):\n",
        "            is_last = ind >= (num_resolutions - 1)\n",
        "\n",
        "            self.ups.append([\n",
        "                ClassConditioning(now_res),\n",
        "                block_klass((dim_out * 2) + 1, dim_in, time_emb_dim=time_dim),\n",
        "                block_klass(dim_in, dim_in, time_emb_dim=time_dim),\n",
        "                Residual(PreNorm(dim_in, LinearAttention(dim_in))),\n",
        "                Upsample(dim_in) if not is_last else Identity()\n",
        "            ])\n",
        "\n",
        "            now_res *= 2 if not is_last else 1\n",
        "\n",
        "        default_out_dim = channels * (1 if not learned_variance else 2)\n",
        "        self.out_dim = default(out_dim, default_out_dim)\n",
        "\n",
        "        self.final_conv = Sequential([\n",
        "            block_klass(dim * 2, dim),\n",
        "            nn.Conv2D(filters=self.out_dim, kernel_size=1, strides=1)\n",
        "        ], name=\"output\")\n",
        "\n",
        "    def call(self, x, time=None, class_vector=None, training=True, **kwargs):\n",
        "        x = self.init_conv(x)\n",
        "        t = self.time_mlp(time)\n",
        "\n",
        "        class_vector = self.class_embeddings(class_vector)\n",
        "\n",
        "        h = []\n",
        "\n",
        "        for class_conditioning, block1, block2, attn, downsample in self.downs:\n",
        "            cv = class_conditioning(class_vector)\n",
        "            x = tf.concat([x, cv], axis=-1)\n",
        "            x = block1(x, t)\n",
        "            x = block2(x, t)\n",
        "            x = attn(x)\n",
        "            h.append(x)\n",
        "            x = downsample(x)\n",
        "\n",
        "        cv = self.mid_class_conditioning(class_vector)\n",
        "        x = tf.concat([x, cv], axis=-1)\n",
        "        x = self.mid_block1(x, t)\n",
        "        x = self.mid_attn(x)\n",
        "        x = self.mid_block2(x, t)\n",
        "\n",
        "        for class_conditioning, block1, block2, attn, upsample in self.ups:\n",
        "            cv = class_conditioning(class_vector)\n",
        "            x = tf.concat([x, cv], axis=-1)\n",
        "            x = tf.concat([x, h.pop()], axis=-1)\n",
        "            x = block1(x, t)\n",
        "            x = block2(x, t)\n",
        "            x = attn(x)\n",
        "            x = upsample(x)\n",
        "\n",
        "        x = tf.concat([x, h.pop()], axis=-1)\n",
        "        x = self.final_conv(x)\n",
        "        return x"
      ],
      "metadata": {
        "id": "n-BuhIa_BTdS"
      },
      "id": "n-BuhIa_BTdS",
      "execution_count": 10,
      "outputs": []
    },
    {
      "cell_type": "code",
      "source": [
        "unet = Unet_conditional(\n",
        "    num_classes=10,\n",
        "    in_res=32,\n",
        "    channels=1\n",
        ")\n",
        "\n",
        "ckpt = tf.train.Checkpoint(unet=unet)\n",
        "ckpt_manager = tf.train.CheckpointManager(ckpt, \"./checkpoints/conditional_diffusion/\", max_to_keep=2)\n",
        "\n",
        "if ckpt_manager.latest_checkpoint:\n",
        "    ckpt.restore(ckpt_manager.latest_checkpoint)\n",
        "    start_interation = int(ckpt_manager.latest_checkpoint.split(\"-\")[-1])\n",
        "    print(\"Restored from {}\".format(ckpt_manager.latest_checkpoint))\n",
        "else:\n",
        "    print(\"Initializing from scratch.\")\n",
        "\n",
        "test_images = np.ones([1, 32, 32, 1])\n",
        "test_timestamps = generate_timestamp(0, 1)\n",
        "test_class = np.array([3], dtype=np.int32)\n",
        "k = unet(test_images, test_timestamps, test_class)\n",
        "opt = keras.optimizers.Adam(learning_rate=1e-4)"
      ],
      "metadata": {
        "colab": {
          "base_uri": "https://localhost:8080/"
        },
        "id": "2h-cnKNYBTgB",
        "outputId": "3013a554-fa8e-4713-9c94-2c9b1a745599"
      },
      "id": "2h-cnKNYBTgB",
      "execution_count": 11,
      "outputs": [
        {
          "output_type": "stream",
          "name": "stdout",
          "text": [
            "Initializing from scratch.\n"
          ]
        }
      ]
    },
    {
      "cell_type": "code",
      "source": [
        "def loss_fn(real, generated):\n",
        "    loss = tf.math.reduce_mean((real - generated) ** 2)\n",
        "    return loss"
      ],
      "metadata": {
        "id": "dDEJT1GjBTin"
      },
      "id": "dDEJT1GjBTin",
      "execution_count": 12,
      "outputs": []
    },
    {
      "cell_type": "code",
      "source": [
        "def train_step(batch, _class):\n",
        "    rng, tsrng = np.random.randint(0, 100000, size=(2,))\n",
        "    timestep_values = generate_timestamp(tsrng, batch.shape[0])\n",
        "\n",
        "    noised_image, noise = forward_noise(rng, batch, tf.cast(timestep_values, tf.int32))\n",
        "    with tf.GradientTape() as tape:\n",
        "        prediction = unet(noised_image, timestep_values, _class)\n",
        "\n",
        "        loss_value = loss_fn(noise, prediction)\n",
        "\n",
        "    gradients = tape.gradient(loss_value, unet.trainable_variables)\n",
        "    opt.apply_gradients(zip(gradients, unet.trainable_variables))\n",
        "\n",
        "    return loss_value"
      ],
      "metadata": {
        "id": "Ztj2ZoAhBTlF"
      },
      "id": "Ztj2ZoAhBTlF",
      "execution_count": 13,
      "outputs": []
    },
    {
      "cell_type": "code",
      "source": [
        "epochs = 5\n",
        "for e in range(1, epochs+1):\n",
        "    bar = tf.keras.utils.Progbar(len(dataset)-1)\n",
        "    losses = []\n",
        "    for i, batch in enumerate(iter(dataset)):\n",
        "        # run the training loop\n",
        "        loss = train_step(batch[0], batch[1])\n",
        "        losses.append(loss)\n",
        "        bar.update(i, values=[(\"loss\", loss)])\n",
        "\n",
        "    avg = np.mean(losses)\n",
        "    print(f\"Average loss for epoch {e}/{epochs}: {avg}\")\n",
        "    ckpt_manager.save(checkpoint_number=e)"
      ],
      "metadata": {
        "colab": {
          "base_uri": "https://localhost:8080/"
        },
        "id": "m_yFZpRJBTnp",
        "outputId": "d89d851e-3973-4a88-ef6b-d4c1dad56bb7"
      },
      "id": "m_yFZpRJBTnp",
      "execution_count": 14,
      "outputs": [
        {
          "output_type": "stream",
          "name": "stderr",
          "text": [
            "WARNING:tensorflow:5 out of the last 5 calls to <function _BaseOptimizer._update_step_xla at 0x7ff0905e7400> triggered tf.function retracing. Tracing is expensive and the excessive number of tracings could be due to (1) creating @tf.function repeatedly in a loop, (2) passing tensors with different shapes, (3) passing Python objects instead of tensors. For (1), please define your @tf.function outside of the loop. For (2), @tf.function has reduce_retracing=True option that can avoid unnecessary retracing. For (3), please refer to https://www.tensorflow.org/guide/function#controlling_retracing and https://www.tensorflow.org/api_docs/python/tf/function for  more details.\n",
            "WARNING:tensorflow:6 out of the last 6 calls to <function _BaseOptimizer._update_step_xla at 0x7ff0905e7400> triggered tf.function retracing. Tracing is expensive and the excessive number of tracings could be due to (1) creating @tf.function repeatedly in a loop, (2) passing tensors with different shapes, (3) passing Python objects instead of tensors. For (1), please define your @tf.function outside of the loop. For (2), @tf.function has reduce_retracing=True option that can avoid unnecessary retracing. For (3), please refer to https://www.tensorflow.org/guide/function#controlling_retracing and https://www.tensorflow.org/api_docs/python/tf/function for  more details.\n"
          ]
        },
        {
          "output_type": "stream",
          "name": "stdout",
          "text": [
            "937/937 [==============================] - 963s 982ms/step - loss: 0.2543\n",
            "Average loss for epoch 1/5: 0.2542726397514343\n",
            "937/937 [==============================] - 916s 976ms/step - loss: 0.0991\n",
            "Average loss for epoch 2/5: 0.09906194359064102\n",
            "937/937 [==============================] - 922s 983ms/step - loss: 0.0841\n",
            "Average loss for epoch 3/5: 0.08413943648338318\n",
            "937/937 [==============================] - 907s 967ms/step - loss: 0.0772\n",
            "Average loss for epoch 4/5: 0.07715881615877151\n",
            "937/937 [==============================] - 903s 962ms/step - loss: 0.0730\n",
            "Average loss for epoch 5/5: 0.07302537560462952\n"
          ]
        }
      ]
    },
    {
      "cell_type": "code",
      "source": [
        "# Save a GIF using logged images\n",
        "def save_gif(img_list, path=\"\", interval=200):\n",
        "    # Transform images from [-1,1] to [0, 255]\n",
        "    imgs = []\n",
        "    for im in img_list:\n",
        "        im = np.array(im)\n",
        "        im = (im + 1) * 127.5\n",
        "        im = np.clip(im, 0, 255).astype(np.int32)\n",
        "        im = Image.fromarray(im)\n",
        "        imgs.append(im)\n",
        "\n",
        "    imgs = iter(imgs)\n",
        "\n",
        "    # Extract first image from iterator\n",
        "    img = next(imgs)\n",
        "\n",
        "    # Append the other images and save as GIF\n",
        "    img.save(fp=path, format='GIF', append_images=imgs,\n",
        "             save_all=True, duration=interval, loop=0)"
      ],
      "metadata": {
        "id": "QBi0yOhFBTqC"
      },
      "id": "QBi0yOhFBTqC",
      "execution_count": 15,
      "outputs": []
    },
    {
      "cell_type": "code",
      "source": [
        "def ddpm(x_t, pred_noise, t):\n",
        "    alpha_t = np.take(alpha, t)\n",
        "    alpha_t_bar = np.take(alpha_bar, t)\n",
        "\n",
        "    eps_coef = (1 - alpha_t) / (1 - alpha_t_bar) ** .5\n",
        "    mean = (1 / (alpha_t ** .5)) * (x_t - eps_coef * pred_noise)\n",
        "\n",
        "    var = np.take(beta, t)\n",
        "    z = np.random.normal(size=x_t.shape)\n",
        "\n",
        "    return mean + (var ** .5) * z"
      ],
      "metadata": {
        "id": "2sy0ybXkBTsh"
      },
      "id": "2sy0ybXkBTsh",
      "execution_count": 16,
      "outputs": []
    },
    {
      "cell_type": "code",
      "source": [
        "# ddpm\n",
        "x = tf.random.normal((1,32,32,1))\n",
        "\n",
        "img_list = []\n",
        "img_list.append(np.squeeze(np.squeeze(x, 0), -1))\n",
        "\n",
        "_class = 3\n",
        "\n",
        "for i in tqdm(range(timesteps-1)):\n",
        "    t = np.expand_dims(np.array(timesteps-i-1, np.int32), 0)\n",
        "    pred_noise = unet(x, t, np.array([_class], dtype=np.int32))\n",
        "    x = ddpm(x, pred_noise, t)\n",
        "    img_list.append(np.squeeze(np.squeeze(x, 0), -1))\n",
        "\n",
        "    if i % 25==0:\n",
        "\n",
        "        plt.imshow(x[0], cmap='gray')\n",
        "        plt.show()\n",
        "\n",
        "plt.imshow(x[0], cmap='gray')\n",
        "plt.show()\n",
        "\n"
      ],
      "metadata": {
        "id": "8R-HQ_QRD9kE",
        "colab": {
          "base_uri": "https://localhost:8080/",
          "height": 1000
        },
        "outputId": "fa2fbfd7-9451-4258-ae5b-b78eb85dcd9e"
      },
      "id": "8R-HQ_QRD9kE",
      "execution_count": 18,
      "outputs": [
        {
          "output_type": "stream",
          "name": "stderr",
          "text": [
            "\r  0%|          | 0/99 [00:00<?, ?it/s]"
          ]
        },
        {
          "output_type": "display_data",
          "data": {
            "text/plain": [
              "<Figure size 640x480 with 1 Axes>"
            ],
            "image/png": "[encoded data removed]"
          },
          "metadata": {}
        },
        {
          "output_type": "stream",
          "name": "stderr",
          "text": [
            " 25%|██▌       | 25/99 [00:10<00:21,  3.51it/s]"
          ]
        },
        {
          "output_type": "display_data",
          "data": {
            "text/plain": [
              "<Figure size 640x480 with 1 Axes>"
            ],
            "image/png": "[encoded data removed]"
          },
          "metadata": {}
        },
        {
          "output_type": "stream",
          "name": "stderr",
          "text": [
            " 51%|█████     | 50/99 [00:18<00:14,  3.37it/s]"
          ]
        },
        {
          "output_type": "display_data",
          "data": {
            "text/plain": [
              "<Figure size 640x480 with 1 Axes>"
            ],
            "image/png": "[encoded data removed]"
          },
          "metadata": {}
        },
        {
          "output_type": "stream",
          "name": "stderr",
          "text": [
            " 76%|███████▌  | 75/99 [00:26<00:06,  3.55it/s]"
          ]
        },
        {
          "output_type": "display_data",
          "data": {
            "text/plain": [
              "<Figure size 640x480 with 1 Axes>"
            ],
            "image/png": "[encoded data removed]"
          },
          "metadata": {}
        },
        {
          "output_type": "stream",
          "name": "stderr",
          "text": [
            "100%|██████████| 99/99 [00:33<00:00,  2.94it/s]\n"
          ]
        },
        {
          "output_type": "display_data",
          "data": {
            "text/plain": [
              "<Figure size 640x480 with 1 Axes>"
            ],
            "image/png": "[encoded data removed]"
          },
          "metadata": {}
        }
      ]
    }
  ],
  "metadata": {
    "kernelspec": {
      "display_name": "Python 3",
      "name": "python3"
    },
    "language_info": {
      "codemirror_mode": {
        "name": "ipython",
        "version": 3
      },
      "file_extension": ".py",
      "mimetype": "text/x-python",
      "name": "python",
      "nbconvert_exporter": "python",
      "pygments_lexer": "ipython3",
      "version": "3.11.7"
    },
    "colab": {
      "provenance": [],
      "gpuType": "T4"
    },
    "accelerator": "GPU",
    "widgets": {
      "application/vnd.jupyter.widget-state+json": {
        "324ac4cbbcdf473e992e2a9e81dba047": {
          "model_module": "@jupyter-widgets/controls",
          "model_name": "HBoxModel",
          "model_module_version": "1.5.0",
          "state": {
            "_dom_classes": [],
            "_model_module": "@jupyter-widgets/controls",
            "_model_module_version": "1.5.0",
            "_model_name": "HBoxModel",
            "_view_count": null,
            "_view_module": "@jupyter-widgets/controls",
            "_view_module_version": "1.5.0",
            "_view_name": "HBoxView",
            "box_style": "",
            "children": [
              "IPY_MODEL_d60ce3e671024918a78d563b330b6e57",
              "IPY_MODEL_bd6ed66982cc43c1b3e7771aedea8048",
              "IPY_MODEL_64f072cb9fbf4c5193576d6d499ad332"
            ],
            "layout": "IPY_MODEL_338e3b07559b435b94ac3ef329e419de"
          }
        },
        "d60ce3e671024918a78d563b330b6e57": {
          "model_module": "@jupyter-widgets/controls",
          "model_name": "HTMLModel",
          "model_module_version": "1.5.0",
          "state": {
            "_dom_classes": [],
            "_model_module": "@jupyter-widgets/controls",
            "_model_module_version": "1.5.0",
            "_model_name": "HTMLModel",
            "_view_count": null,
            "_view_module": "@jupyter-widgets/controls",
            "_view_module_version": "1.5.0",
            "_view_name": "HTMLView",
            "description": "",
            "description_tooltip": null,
            "layout": "IPY_MODEL_ef2e7182b8224ba49c02112f709798c4",
            "placeholder": "​",
            "style": "IPY_MODEL_e45b388783454effb649c1611e533493",
            "value": "Dl Completed...: 100%"
          }
        },
        "bd6ed66982cc43c1b3e7771aedea8048": {
          "model_module": "@jupyter-widgets/controls",
          "model_name": "FloatProgressModel",
          "model_module_version": "1.5.0",
          "state": {
            "_dom_classes": [],
            "_model_module": "@jupyter-widgets/controls",
            "_model_module_version": "1.5.0",
            "_model_name": "FloatProgressModel",
            "_view_count": null,
            "_view_module": "@jupyter-widgets/controls",
            "_view_module_version": "1.5.0",
            "_view_name": "ProgressView",
            "bar_style": "success",
            "description": "",
            "description_tooltip": null,
            "layout": "IPY_MODEL_33c3966d19fb4d7eaf919e28861ded03",
            "max": 5,
            "min": 0,
            "orientation": "horizontal",
            "style": "IPY_MODEL_f83021e1570742439844be1a8eb5f219",
            "value": 5
          }
        },
        "64f072cb9fbf4c5193576d6d499ad332": {
          "model_module": "@jupyter-widgets/controls",
          "model_name": "HTMLModel",
          "model_module_version": "1.5.0",
          "state": {
            "_dom_classes": [],
            "_model_module": "@jupyter-widgets/controls",
            "_model_module_version": "1.5.0",
            "_model_name": "HTMLModel",
            "_view_count": null,
            "_view_module": "@jupyter-widgets/controls",
            "_view_module_version": "1.5.0",
            "_view_name": "HTMLView",
            "description": "",
            "description_tooltip": null,
            "layout": "IPY_MODEL_a60dc7ad7efa49e9a2553568347a4f06",
            "placeholder": "​",
            "style": "IPY_MODEL_51ffbc9c1f0342aaafb80193096bf997",
            "value": " 5/5 [00:03&lt;00:00,  1.05s/ file]"
          }
        },
        "338e3b07559b435b94ac3ef329e419de": {
          "model_module": "@jupyter-widgets/base",
          "model_name": "LayoutModel",
          "model_module_version": "1.2.0",
          "state": {
            "_model_module": "@jupyter-widgets/base",
            "_model_module_version": "1.2.0",
            "_model_name": "LayoutModel",
            "_view_count": null,
            "_view_module": "@jupyter-widgets/base",
            "_view_module_version": "1.2.0",
            "_view_name": "LayoutView",
            "align_content": null,
            "align_items": null,
            "align_self": null,
            "border": null,
            "bottom": null,
            "display": null,
            "flex": null,
            "flex_flow": null,
            "grid_area": null,
            "grid_auto_columns": null,
            "grid_auto_flow": null,
            "grid_auto_rows": null,
            "grid_column": null,
            "grid_gap": null,
            "grid_row": null,
            "grid_template_areas": null,
            "grid_template_columns": null,
            "grid_template_rows": null,
            "height": null,
            "justify_content": null,
            "justify_items": null,
            "left": null,
            "margin": null,
            "max_height": null,
            "max_width": null,
            "min_height": null,
            "min_width": null,
            "object_fit": null,
            "object_position": null,
            "order": null,
            "overflow": null,
            "overflow_x": null,
            "overflow_y": null,
            "padding": null,
            "right": null,
            "top": null,
            "visibility": null,
            "width": null
          }
        },
        "ef2e7182b8224ba49c02112f709798c4": {
          "model_module": "@jupyter-widgets/base",
          "model_name": "LayoutModel",
          "model_module_version": "1.2.0",
          "state": {
            "_model_module": "@jupyter-widgets/base",
            "_model_module_version": "1.2.0",
            "_model_name": "LayoutModel",
            "_view_count": null,
            "_view_module": "@jupyter-widgets/base",
            "_view_module_version": "1.2.0",
            "_view_name": "LayoutView",
            "align_content": null,
            "align_items": null,
            "align_self": null,
            "border": null,
            "bottom": null,
            "display": null,
            "flex": null,
            "flex_flow": null,
            "grid_area": null,
            "grid_auto_columns": null,
            "grid_auto_flow": null,
            "grid_auto_rows": null,
            "grid_column": null,
            "grid_gap": null,
            "grid_row": null,
            "grid_template_areas": null,
            "grid_template_columns": null,
            "grid_template_rows": null,
            "height": null,
            "justify_content": null,
            "justify_items": null,
            "left": null,
            "margin": null,
            "max_height": null,
            "max_width": null,
            "min_height": null,
            "min_width": null,
            "object_fit": null,
            "object_position": null,
            "order": null,
            "overflow": null,
            "overflow_x": null,
            "overflow_y": null,
            "padding": null,
            "right": null,
            "top": null,
            "visibility": null,
            "width": null
          }
        },
        "e45b388783454effb649c1611e533493": {
          "model_module": "@jupyter-widgets/controls",
          "model_name": "DescriptionStyleModel",
          "model_module_version": "1.5.0",
          "state": {
            "_model_module": "@jupyter-widgets/controls",
            "_model_module_version": "1.5.0",
            "_model_name": "DescriptionStyleModel",
            "_view_count": null,
            "_view_module": "@jupyter-widgets/base",
            "_view_module_version": "1.2.0",
            "_view_name": "StyleView",
            "description_width": ""
          }
        },
        "33c3966d19fb4d7eaf919e28861ded03": {
          "model_module": "@jupyter-widgets/base",
          "model_name": "LayoutModel",
          "model_module_version": "1.2.0",
          "state": {
            "_model_module": "@jupyter-widgets/base",
            "_model_module_version": "1.2.0",
            "_model_name": "LayoutModel",
            "_view_count": null,
            "_view_module": "@jupyter-widgets/base",
            "_view_module_version": "1.2.0",
            "_view_name": "LayoutView",
            "align_content": null,
            "align_items": null,
            "align_self": null,
            "border": null,
            "bottom": null,
            "display": null,
            "flex": null,
            "flex_flow": null,
            "grid_area": null,
            "grid_auto_columns": null,
            "grid_auto_flow": null,
            "grid_auto_rows": null,
            "grid_column": null,
            "grid_gap": null,
            "grid_row": null,
            "grid_template_areas": null,
            "grid_template_columns": null,
            "grid_template_rows": null,
            "height": null,
            "justify_content": null,
            "justify_items": null,
            "left": null,
            "margin": null,
            "max_height": null,
            "max_width": null,
            "min_height": null,
            "min_width": null,
            "object_fit": null,
            "object_position": null,
            "order": null,
            "overflow": null,
            "overflow_x": null,
            "overflow_y": null,
            "padding": null,
            "right": null,
            "top": null,
            "visibility": null,
            "width": null
          }
        },
        "f83021e1570742439844be1a8eb5f219": {
          "model_module": "@jupyter-widgets/controls",
          "model_name": "ProgressStyleModel",
          "model_module_version": "1.5.0",
          "state": {
            "_model_module": "@jupyter-widgets/controls",
            "_model_module_version": "1.5.0",
            "_model_name": "ProgressStyleModel",
            "_view_count": null,
            "_view_module": "@jupyter-widgets/base",
            "_view_module_version": "1.2.0",
            "_view_name": "StyleView",
            "bar_color": null,
            "description_width": ""
          }
        },
        "a60dc7ad7efa49e9a2553568347a4f06": {
          "model_module": "@jupyter-widgets/base",
          "model_name": "LayoutModel",
          "model_module_version": "1.2.0",
          "state": {
            "_model_module": "@jupyter-widgets/base",
            "_model_module_version": "1.2.0",
            "_model_name": "LayoutModel",
            "_view_count": null,
            "_view_module": "@jupyter-widgets/base",
            "_view_module_version": "1.2.0",
            "_view_name": "LayoutView",
            "align_content": null,
            "align_items": null,
            "align_self": null,
            "border": null,
            "bottom": null,
            "display": null,
            "flex": null,
            "flex_flow": null,
            "grid_area": null,
            "grid_auto_columns": null,
            "grid_auto_flow": null,
            "grid_auto_rows": null,
            "grid_column": null,
            "grid_gap": null,
            "grid_row": null,
            "grid_template_areas": null,
            "grid_template_columns": null,
            "grid_template_rows": null,
            "height": null,
            "justify_content": null,
            "justify_items": null,
            "left": null,
            "margin": null,
            "max_height": null,
            "max_width": null,
            "min_height": null,
            "min_width": null,
            "object_fit": null,
            "object_position": null,
            "order": null,
            "overflow": null,
            "overflow_x": null,
            "overflow_y": null,
            "padding": null,
            "right": null,
            "top": null,
            "visibility": null,
            "width": null
          }
        },
        "51ffbc9c1f0342aaafb80193096bf997": {
          "model_module": "@jupyter-widgets/controls",
          "model_name": "DescriptionStyleModel",
          "model_module_version": "1.5.0",
          "state": {
            "_model_module": "@jupyter-widgets/controls",
            "_model_module_version": "1.5.0",
            "_model_name": "DescriptionStyleModel",
            "_view_count": null,
            "_view_module": "@jupyter-widgets/base",
            "_view_module_version": "1.2.0",
            "_view_name": "StyleView",
            "description_width": ""
          }
        }
      }
    }
  },
  "nbformat": 4,
  "nbformat_minor": 5
}